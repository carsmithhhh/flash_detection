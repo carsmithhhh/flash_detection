{
 "cells": [
  {
   "cell_type": "code",
   "execution_count": 79,
   "id": "a23aaa1f-610b-4452-afe8-30cb6deb80ff",
   "metadata": {},
   "outputs": [],
   "source": [
    "import sys\n",
    "sys.path.append('..')\n",
    "sys.path.append('../..')\n",
    "from data_utils import *\n",
    "from waveforms.make_waveform import BatchedLightSimulation\n",
    "\n",
    "import torch\n",
    "import numpy as np\n",
    "import pickle\n",
    "from torch.utils.data import DataLoader, random_split\n",
    "from torch.utils.data import Subset\n",
    "import importlib\n",
    "import wandb\n",
    "import torch.optim as optim\n",
    "from torch.optim.lr_scheduler import SequentialLR, LinearLR, CosineAnnealingLR\n",
    "import matplotlib.gridspec as gridspec\n",
    "import matplotlib.pyplot as plt\n",
    "import yaml\n",
    "\n",
    "from transformer import *\n",
    "from hybrid_loss import *\n",
    "from model import *\n",
    "from evaluation import *\n",
    "from conformer import *\n",
    "\n",
    "seed = 42\n",
    "random.seed(seed)\n",
    "np.random.seed(seed)\n",
    "torch.manual_seed(seed)\n",
    "torch.cuda.manual_seed_all(seed)  # if using CUDA"
   ]
  },
  {
   "cell_type": "code",
   "execution_count": null,
   "id": "2c259066-01f2-47c9-935d-defcddb0157d",
   "metadata": {},
   "outputs": [],
   "source": []
  },
  {
   "cell_type": "code",
   "execution_count": 80,
   "id": "e9bb1e2a-9523-4e77-8c83-430ba4661ce7",
   "metadata": {},
   "outputs": [
    {
     "name": "stdout",
     "output_type": "stream",
     "text": [
      "conformer_v5_drop\n",
      "conformer_v5_+\n"
     ]
    },
    {
     "name": "stderr",
     "output_type": "stream",
     "text": [
      "/lscratch/carsmith/tmp/ipykernel_357321/4268378412.py:24: FutureWarning: You are using `torch.load` with `weights_only=False` (the current default value), which uses the default pickle module implicitly. It is possible to construct malicious pickle data which will execute arbitrary code during unpickling (See https://github.com/pytorch/pytorch/blob/main/SECURITY.md#untrusted-models for more details). In a future release, the default value for `weights_only` will be flipped to `True`. This limits the functions that could be executed during unpickling. Arbitrary objects will no longer be allowed to be loaded via this mode unless they are explicitly allowlisted by the user via `torch.serialization.add_safe_globals`. We recommend you start setting `weights_only=True` for any use case where you don't have full control of the loaded file. Please open an issue on GitHub for any issues related to this experimental feature.\n",
      "  checkpoint = torch.load(cfg[\"checkpoint\"], map_location=device)\n"
     ]
    },
    {
     "name": "stdout",
     "output_type": "stream",
     "text": [
      "dict_keys(['conformer_v5_drop', 'conformer_v5_+'])\n"
     ]
    }
   ],
   "source": [
    "device='cuda'\n",
    "\n",
    "MODEL_CLASSES = {\n",
    "    \"TransformerModel\": TransformerModel,\n",
    "    \"ConformerModel\": ConformerModel,\n",
    "    \"ConformerModelv2\": ConformerModelv2,\n",
    "    \"UNet1D\": UNet1D\n",
    "}\n",
    "\n",
    "def load_models(config_path, device=\"cuda\"):\n",
    "    with open(config_path, \"r\") as f:\n",
    "        configs = yaml.safe_load(f)\n",
    "\n",
    "    models = {}\n",
    "    for name, cfg in configs.items():\n",
    "        if not cfg.get(\"include\", True):\n",
    "            continue\n",
    "            \n",
    "        print(name)\n",
    "        cls = MODEL_CLASSES[cfg[\"class\"]]\n",
    "        model = cls(**cfg.get(\"args\", {}))\n",
    "        model.to(device)\n",
    "\n",
    "        checkpoint = torch.load(cfg[\"checkpoint\"], map_location=device)\n",
    "        model.load_state_dict(checkpoint[\"model_state_dict\"])\n",
    "        model.eval()\n",
    "\n",
    "        models[name] = model\n",
    "    return models\n",
    "    \n",
    "models = load_models(\"../model_list.yaml\")\n",
    "print(models.keys())  "
   ]
  },
  {
   "cell_type": "code",
   "execution_count": 82,
   "id": "36a3b2cb-4f8e-4932-b250-74aa0c7070ab",
   "metadata": {},
   "outputs": [],
   "source": [
    "# Loading in data\n",
    "load_wfs = np.load('/sdf/home/c/carsmith/sdf_data/flash_detection_data/flash_files/delta_t_100_passingflash.npy', allow_pickle=True) # array of shape (2519, 5, 250, 250)\n",
    "dataset = WaveformDataset(load_wfs.item())\n",
    "\n",
    "g = torch.Generator()\n",
    "g.manual_seed(seed)\n",
    "\n",
    "batch_size = 25\n",
    "\n",
    "def custom_collate_fn(batch):\n",
    "    \"\"\"\n",
    "    Custom collate function for WaveformDataset.\n",
    "    Each item in batch is a tuple: (waveform, arrival_time).\n",
    "    Returns:\n",
    "        waveforms: Tensor of shape (batch_size, waveform_length)\n",
    "        arrival_times: Tensor of shape (batch_size,) or (batch_size, 1)\n",
    "        hit_times: Tensor of shape (?) with a list of hit times per sample\n",
    "    \"\"\"\n",
    "    waveforms, arrival_times, hit_times, photon_bins, photon_list = zip(*batch)\n",
    "    waveforms = torch.stack(waveforms, dim=0)\n",
    "\n",
    "     # Normalizing waveforms\n",
    "    waveforms = (waveforms - waveforms.mean(dim=1, keepdim=True)) / (waveforms.std(dim=1, keepdim=True) + 1e-8)\n",
    "    waveforms = waveforms.unsqueeze(1)  # add channel dimension [B,1,L]\n",
    "\n",
    "    # for binary classification\n",
    "    arrival_times = torch.stack(arrival_times, dim=0)\n",
    "    arrival_times = arrival_times.unsqueeze(1) # adding channel dimension\n",
    "    photon_bins = torch.stack(photon_bins, dim=0)\n",
    "    photon_bins = photon_bins.unsqueeze(1)\n",
    "\n",
    "    # for regression, just use hit times\n",
    "    hit_times = [item[2] for item in batch]\n",
    "    hit_times = torch.tensor(hit_times)\n",
    "    photon_list = [item[4] for item in batch]\n",
    "    photon_list = torch.tensor(photon_list)\n",
    "    \n",
    "    return waveforms, arrival_times, hit_times, photon_bins, photon_list\n",
    "    \n",
    "\n",
    "delta_loader = DataLoader(\n",
    "    dataset,\n",
    "    batch_size=batch_size,\n",
    "    shuffle=False,\n",
    "    generator=g,\n",
    "    collate_fn=custom_collate_fn,\n",
    "    num_workers=0,\n",
    "    pin_memory=False,\n",
    "    drop_last=False\n",
    ")"
   ]
  },
  {
   "cell_type": "markdown",
   "id": "ad74580a-f42e-450b-a49b-a1f8179ce2bf",
   "metadata": {},
   "source": [
    "### Collect & Order Waveforms and Predictions"
   ]
  },
  {
   "cell_type": "code",
   "execution_count": 84,
   "id": "07eb6329-5e0d-4226-b3e8-de0a64c857cf",
   "metadata": {},
   "outputs": [
    {
     "name": "stderr",
     "output_type": "stream",
     "text": [
      "  0%|          | 0/4000 [00:00<?, ?it/s]/lscratch/carsmith/tmp/ipykernel_357321/3269230687.py:38: UserWarning: To copy construct from a tensor, it is recommended to use sourceTensor.clone().detach() or sourceTensor.clone().detach().requires_grad_(True), rather than torch.tensor(sourceTensor).\n",
      "  ht = torch.tensor(hit_times[b]).flatten()\n",
      "100%|██████████| 4000/4000 [02:11<00:00, 30.50it/s]"
     ]
    },
    {
     "name": "stdout",
     "output_type": "stream",
     "text": [
      "Unique separations: 2000, max = 999, min = -1000\n"
     ]
    },
    {
     "name": "stderr",
     "output_type": "stream",
     "text": [
      "\n"
     ]
    }
   ],
   "source": [
    "# Animation of waveforms ordered by descending two-flash separation (one per separation value)\n",
    "\n",
    "import numpy as np\n",
    "import torch\n",
    "import matplotlib.pyplot as plt\n",
    "from matplotlib import animation\n",
    "from IPython.display import HTML\n",
    "import os\n",
    "\n",
    "# ---------- User parameters ----------\n",
    "save_mp4 = False            # set True to save mp4 (requires ffmpeg)\n",
    "save_gif = True           # set True to also save GIF (uses Pillow)\n",
    "out_dir = './animations'\n",
    "out_name = '100phot_passing_NORM_conv5_drop'\n",
    "fps = 24\n",
    "waveform_channel = 0       # if waveform has channels, index of the 1D waveform channel\n",
    "tick_scale_ns = 1.0        # conversion from tick index to ns (adjust if needed)\n",
    "figsize = (10, 3)\n",
    "normalize_each = False\n",
    "# -------------------------------------\n",
    "device = \"cuda\" if torch.cuda.is_available() else \"cpu\"\n",
    "model = models[\"conformer_v5_drop\"]  # <-- replace with the name of the model you want to visualize\n",
    "model.to(device)\n",
    "model.eval()\n",
    "\n",
    "os.makedirs(out_dir, exist_ok=True)\n",
    "\n",
    "sep_to_example = {}\n",
    "\n",
    "with torch.no_grad():\n",
    "    for data, target, hit_times, photon_target, photon_list in tqdm(delta_loader):\n",
    "        data = data.to(device)  # [B, 1, L]\n",
    "\n",
    "        # Run the model on the whole batch\n",
    "        class_output, reg_output = model(data, mode=\"bce\")\n",
    "\n",
    "        for b in range(data.shape[0]):\n",
    "            ht = torch.tensor(hit_times[b]).flatten()\n",
    "            valid_ht = ht[ht >= 0]\n",
    "\n",
    "            if valid_ht.numel() == 2:\n",
    "                # sep = int(abs((valid_ht[1] - valid_ht[0]).item()))  # separation in ticks\n",
    "                sep = int((valid_ht[1] - valid_ht[0]).item()) # separation in ticks, CAN BE NEGATIVE\n",
    "                if sep not in sep_to_example:  # only keep first example at this separation\n",
    "                    wf = data[b].detach().cpu().squeeze().numpy()  # waveform as 1D numpy array\n",
    "\n",
    "                    # compute merged mask for this waveform\n",
    "                    merged_mask = merge_bins(class_output[b].unsqueeze(0), skip_tol=5)\n",
    "                    sep_to_example[sep] = (wf, valid_ht.cpu().numpy(), merged_mask.cpu().numpy())\n",
    "\n",
    "# ---------- Sort separations ----------\n",
    "unique_seps = sorted(sep_to_example.keys(), reverse=True)\n",
    "waveforms_ordered = [sep_to_example[s][0] for s in unique_seps]\n",
    "hit_pairs = [sep_to_example[s][1] for s in unique_seps]\n",
    "pred_masks = [sep_to_example[s][2] for s in unique_seps]\n",
    "separations = unique_seps\n",
    "\n",
    "print(f\"Unique separations: {len(separations)}, max = {separations[0]}, min = {separations[-1]}\")\n",
    "\n",
    "# ---------- Normalize & ticks ----------\n",
    "L = waveforms_ordered[0].shape[-1]\n",
    "ticks = np.arange(L) * tick_scale_ns\n",
    "\n",
    "if normalize_each:\n",
    "    waveforms_plot = []\n",
    "    for wf in waveforms_ordered:\n",
    "        wf = np.array(wf)\n",
    "        wf_norm = (wf - wf.mean()) / (wf.std() + 1e-8)\n",
    "        waveforms_plot.append(wf_norm)\n",
    "else:\n",
    "    waveforms_plot = waveforms_ordered\n",
    "\n",
    "# # ---------- Collect separations and one example per separation ----------\n",
    "# sep_to_example = {}\n",
    "# for i in range(len(dataset)):\n",
    "#     wf, arrival_time, hit_times, *_ = dataset[i]\n",
    "#     ht = torch.tensor(hit_times).flatten()\n",
    "#     valid_ht = ht[ht >= 0]\n",
    "#     if valid_ht.numel() == 2:\n",
    "#         sep = int(abs((valid_ht[1] - valid_ht[0]).item()))  # separation in ticks\n",
    "#         if sep not in sep_to_example:  # only keep first example at this separation\n",
    "#             # store waveform as 1D numpy array\n",
    "#             if isinstance(wf, torch.Tensor):\n",
    "#                 wf_np = wf.squeeze().cpu().numpy()\n",
    "#             else:\n",
    "#                 wf_np = np.array(wf).squeeze()\n",
    "#             sep_to_example[sep] = (wf_np, valid_ht.cpu().numpy())\n",
    "\n",
    "# # Sort separations descending\n",
    "# unique_seps = sorted(sep_to_example.keys(), reverse=True)\n",
    "# waveforms_ordered = [sep_to_example[s][0] for s in unique_seps]\n",
    "# hit_pairs = [sep_to_example[s][1] for s in unique_seps]\n",
    "# separations = unique_seps\n",
    "\n",
    "# print(f\"Unique separations: {len(separations)}, max = {separations[0]}, min = {separations[-1]}\")\n",
    "\n",
    "# # Build Merged Windows\n",
    "# pred_masks = []\n",
    "# with torch.no_grad():\n",
    "#     for wf in waveforms_ordered:\n",
    "#         wf_tensor = torch.tensor(wf, dtype=torch.float32, device=device).unsqueeze(0).unsqueeze(0)  # [1,1,L]\n",
    "#         class_output, reg_output = model(wf_tensor, mode=\"bce\")\n",
    "#         merged_mask = merge_bins(class_output, skip_tol=5)  # shape [L]\n",
    "#         pred_masks.append(merged_mask.cpu().numpy())\n",
    "\n",
    "# # ---------- Normalize & ticks ----------\n",
    "# L = waveforms_ordered[0].shape[-1]\n",
    "# ticks = np.arange(L) * tick_scale_ns\n",
    "\n",
    "# if normalize_each:\n",
    "#     waveforms_plot = []\n",
    "#     for wf in waveforms_ordered:\n",
    "#         wf = np.array(wf)\n",
    "#         wf_norm = (wf - wf.mean()) / (wf.std() + 1e-8)\n",
    "#         waveforms_plot.append(wf_norm)\n",
    "# else:\n",
    "#     waveforms_plot = waveforms_ordered"
   ]
  },
  {
   "cell_type": "code",
   "execution_count": null,
   "id": "f432a883-a82e-4ef1-94fe-0829b274b2ab",
   "metadata": {},
   "outputs": [],
   "source": []
  },
  {
   "cell_type": "code",
   "execution_count": null,
   "id": "d2f4b004-a30e-468d-bc67-51561a081f08",
   "metadata": {},
   "outputs": [],
   "source": []
  },
  {
   "cell_type": "code",
   "execution_count": null,
   "id": "69b11791-3cc6-4c02-a530-048e2a2dfd09",
   "metadata": {},
   "outputs": [],
   "source": []
  },
  {
   "cell_type": "markdown",
   "id": "7e3c135d-b74c-4063-b85c-bff7c2707066",
   "metadata": {},
   "source": [
    "### Sanity Check - Evaluate Purity on Selected Samples\n",
    "START HERE! Try different batch sizes? to see if this changes things"
   ]
  },
  {
   "cell_type": "code",
   "execution_count": 85,
   "id": "66f1212e-405a-4504-9886-80516a199658",
   "metadata": {},
   "outputs": [
    {
     "name": "stdout",
     "output_type": "stream",
     "text": [
      "2000\n",
      "2000\n",
      "[4000 4999]\n"
     ]
    }
   ],
   "source": [
    "print(len(pred_masks))\n",
    "print(len(hit_pairs))\n",
    "print(hit_pairs[0])"
   ]
  },
  {
   "cell_type": "code",
   "execution_count": null,
   "id": "112efb91-9311-4ce2-80ca-06fdfdb387db",
   "metadata": {},
   "outputs": [],
   "source": []
  },
  {
   "cell_type": "code",
   "execution_count": 86,
   "id": "19264731-344a-42c6-ae49-f81a6f774a6e",
   "metadata": {},
   "outputs": [
    {
     "name": "stdout",
     "output_type": "stream",
     "text": [
      "GIF Purity:  0.9411333333333332\n"
     ]
    }
   ],
   "source": [
    "# Batching just to check\n",
    "mask_tensor_list = [torch.tensor(mask).squeeze(0) for mask in pred_masks]  # each [1, 8000]\n",
    "hit_pairs_arr = torch.tensor(hit_pairs)  # shape [N]\n",
    "\n",
    "# Stack into one big tensor first\n",
    "mask_tensor = torch.stack(mask_tensor_list)   # shape [N, 1, 8000]\n",
    "\n",
    "batch_size = 25\n",
    "num_batches = len(hit_pairs_arr) // batch_size  # 1500 // 25 = 60\n",
    "\n",
    "# Make mask batches: [60, 25, 1, 8000]\n",
    "mask_batches = mask_tensor[:num_batches * batch_size].view(num_batches, batch_size, 1, 8000)\n",
    "\n",
    "# Make hit pair batches: [60, 25, 2]\n",
    "hit_batches = hit_pairs_arr[:num_batches * batch_size].view(num_batches, batch_size, 2)\n",
    "\n",
    "merged_pure = 0.0\n",
    "\n",
    "# batched version\n",
    "for i in range(mask_batches.shape[0]):\n",
    "    merged_pure += merged_class_purity(mask_batches[i], hit_batches[i], device, no_sum=False)\n",
    "\n",
    "merged_pure /= mask_batches.shape[0]\n",
    "print(\"GIF Purity: \", merged_pure)"
   ]
  },
  {
   "cell_type": "code",
   "execution_count": 87,
   "id": "aa2a4c89-1adb-413b-8958-ab983b95c76e",
   "metadata": {},
   "outputs": [
    {
     "name": "stdout",
     "output_type": "stream",
     "text": [
      "GIF Purity (sample-weighted):  0.941133333333333\n"
     ]
    }
   ],
   "source": [
    "merged_pure = 0.0\n",
    "total_samples = 0\n",
    "\n",
    "for i in range(mask_batches.shape[0]):\n",
    "    batch_size = mask_batches[i].shape[0]\n",
    "    merged_pure += merged_class_purity(mask_batches[i], hit_batches[i], device, no_sum=False) * batch_size\n",
    "    total_samples += batch_size\n",
    "\n",
    "merged_pure /= total_samples\n",
    "print(\"GIF Purity (sample-weighted): \", merged_pure)\n"
   ]
  },
  {
   "cell_type": "code",
   "execution_count": null,
   "id": "6ee67829-b6d0-4baa-a805-f2d50770b869",
   "metadata": {},
   "outputs": [],
   "source": []
  },
  {
   "cell_type": "code",
   "execution_count": 88,
   "id": "87be8539-5cc5-4659-b7cc-99679df6a138",
   "metadata": {},
   "outputs": [
    {
     "name": "stdout",
     "output_type": "stream",
     "text": [
      "GIF Purity:  0.9411333333333332\n"
     ]
    }
   ],
   "source": [
    "merged_pure = 0.0\n",
    "\n",
    "# non-batched version\n",
    "#for merged_mask, hit_times in zip(pred_masks, hit_pairs):\n",
    "    #merged_mask = torch.tensor(merged_mask)\n",
    "    #merged_pure += merged_class_purity(merged_mask, [hit_times], device, no_sum=False)\n",
    "\n",
    "# batched version\n",
    "for i in range(mask_batches.shape[0]):\n",
    "    merged_pure += merged_class_purity(mask_batches[i], hit_batches[i], device, no_sum=False)\n",
    "\n",
    "merged_pure /= mask_batches.shape[0]\n",
    "print(\"GIF Purity: \", merged_pure)"
   ]
  },
  {
   "cell_type": "code",
   "execution_count": null,
   "id": "7dcdb980-5233-49f3-be46-eeebc0439577",
   "metadata": {},
   "outputs": [],
   "source": []
  },
  {
   "cell_type": "code",
   "execution_count": null,
   "id": "5468fbc9-ab34-40cf-8c8c-89f30a3c5fb7",
   "metadata": {},
   "outputs": [],
   "source": []
  },
  {
   "cell_type": "code",
   "execution_count": 89,
   "id": "b4fc6422-ecac-49c9-a6dc-3c0aeee772d9",
   "metadata": {},
   "outputs": [
    {
     "name": "stdout",
     "output_type": "stream",
     "text": [
      "dict_keys(['conformer_v2', 'conformer_v5_drop', 'conformer_v5', 'conformer_5M', 'transformer_2M'])\n"
     ]
    },
    {
     "data": {
      "text/plain": [
       "<matplotlib.legend.Legend at 0x7f0675cc89a0>"
      ]
     },
     "execution_count": 89,
     "metadata": {},
     "output_type": "execute_result"
    },
    {
     "data": {
      "image/png": "[encoded data removed]",
      "text/plain": [
       "<Figure size 640x480 with 1 Axes>"
      ]
     },
     "metadata": {},
     "output_type": "display_data"
    }
   ],
   "source": [
    "# loading in a pre-computed evaluation to compare purities\n",
    "v5_drop_results = np.load(\"performance_analysis/delta_t_benchmark/conv5_drop_delta_t_results.npy\", allow_pickle=True).item()\n",
    "transformer_2M_results = np.load(\"performance_analysis/delta_t_benchmark/c5M_t2M_deltastats.npy\", allow_pickle=True).item()\n",
    "\n",
    "delta_results = {**v5_drop_results, **transformer_2M_results}\n",
    "\n",
    "print(delta_results.keys())\n",
    "plt.plot(delta_results['conformer_v5_drop']['merge_pure'], label='conformer_v5_drop')\n",
    "plt.plot(delta_results['transformer_2M']['merge_pure'], label='transformer_2M')\n",
    "\n",
    "for i in range(0, 1500, 100):\n",
    "    plt.axvline(i, linestyle='--', color='black')\n",
    "plt.axhline(1.0, linestyle='--', color='red')\n",
    "plt.xlabel(\"Separation (ns) (no binning)\")\n",
    "plt.ylabel(\"Purity (batches of 25)\")\n",
    "plt.legend()"
   ]
  },
  {
   "cell_type": "code",
   "execution_count": null,
   "id": "202af1a7-b3d5-4979-b24f-e40eb012788d",
   "metadata": {},
   "outputs": [],
   "source": []
  },
  {
   "cell_type": "markdown",
   "id": "13f780c5-b831-4f41-aeb9-8a1a2714379c",
   "metadata": {},
   "source": [
    "### Reshaping for Visualization"
   ]
  },
  {
   "cell_type": "code",
   "execution_count": 90,
   "id": "ccb8264e-8d3f-4fe6-adae-94d7e7299c9f",
   "metadata": {},
   "outputs": [
    {
     "name": "stdout",
     "output_type": "stream",
     "text": [
      "[[[0 0 0 ... 0 0 0]]]\n"
     ]
    }
   ],
   "source": [
    "print(pred_masks[0])"
   ]
  },
  {
   "cell_type": "code",
   "execution_count": 91,
   "id": "e5fd8583-bf63-4399-8367-0a3f9841528d",
   "metadata": {},
   "outputs": [
    {
     "name": "stdout",
     "output_type": "stream",
     "text": [
      "(1, 1, 8000)\n",
      "<class 'numpy.ndarray'>\n",
      "(1, 8000)\n"
     ]
    }
   ],
   "source": [
    "print(pred_masks[0].shape)\n",
    "print(type(pred_masks[0]))\n",
    "pred_masks = [mask.squeeze(1) for mask in pred_masks]\n",
    "print(pred_masks[0].shape)"
   ]
  },
  {
   "cell_type": "code",
   "execution_count": 92,
   "id": "e936c30f-09d9-4077-a5fe-366226becb64",
   "metadata": {},
   "outputs": [
    {
     "name": "stdout",
     "output_type": "stream",
     "text": [
      "[1 1 1 1 1 1 1 1 1 1 1 1 1 0 0 0 0 0 0 0]\n"
     ]
    }
   ],
   "source": [
    "print(pred_masks[0][0, 3990:4010])\n",
    "waveforms_plot = waveforms_plot[600:]"
   ]
  },
  {
   "cell_type": "code",
   "execution_count": 93,
   "id": "2cff8d92-773e-4b9f-a2d0-ecceaed52f13",
   "metadata": {},
   "outputs": [
    {
     "name": "stdout",
     "output_type": "stream",
     "text": [
      "2000\n",
      "1400\n"
     ]
    }
   ],
   "source": [
    "print(len(pred_masks))\n",
    "pred_masks = pred_masks[600:]\n",
    "print(len(pred_masks))"
   ]
  },
  {
   "cell_type": "code",
   "execution_count": 94,
   "id": "4c0021ea-603b-4d48-8979-9e150b030289",
   "metadata": {},
   "outputs": [
    {
     "name": "stdout",
     "output_type": "stream",
     "text": [
      "2000\n",
      "1400\n"
     ]
    }
   ],
   "source": [
    "print(len(hit_pairs))\n",
    "hit_pairs = hit_pairs[600:]\n",
    "print(len(hit_pairs))"
   ]
  },
  {
   "cell_type": "markdown",
   "id": "31df599a-8657-45c0-a644-563488ea79d2",
   "metadata": {},
   "source": [
    "### Visualizing 1 Frame to Test"
   ]
  },
  {
   "cell_type": "code",
   "execution_count": 97,
   "id": "d68507a8-7b99-4377-9773-75c6e1606e1f",
   "metadata": {},
   "outputs": [
    {
     "data": {
      "image/png": "[encoded data removed]",
      "text/plain": [
       "<Figure size 1000x300 with 1 Axes>"
      ]
     },
     "metadata": {},
     "output_type": "display_data"
    }
   ],
   "source": [
    "import matplotlib.pyplot as plt\n",
    "import numpy as np\n",
    "\n",
    "# ---------- Precompute cropped region ----------\n",
    "crop_start, crop_end = 2500, 5500\n",
    "ticks = np.arange(crop_start, crop_end) * tick_scale_ns\n",
    "\n",
    "waveforms_crop = [wf[crop_start:crop_end] for wf in waveforms_plot]\n",
    "pred_masks_crop = [mask[0, crop_start:crop_end] for mask in pred_masks]\n",
    "\n",
    "# ---------- Plot a single frame ----------\n",
    "i = 2  # choose which waveform to show\n",
    "wf = waveforms_crop[i]\n",
    "pred = pred_masks_crop[i]\n",
    "\n",
    "fig, ax = plt.subplots(1, 1, figsize=figsize)\n",
    "\n",
    "# waveform\n",
    "ax.plot(ticks, wf, lw=1, color='black')\n",
    "\n",
    "# y-limits\n",
    "ymin = min(np.min(wf) for wf in waveforms_crop)\n",
    "ymax = max(np.max(wf) for wf in waveforms_crop)\n",
    "ax.set_ylim(ymin, ymax)\n",
    "\n",
    "ax.set_xlim(crop_start * tick_scale_ns, crop_end * tick_scale_ns)\n",
    "ax.set_xlabel(\"Time (ns)\")\n",
    "ax.set_ylabel(\"Normalized ADC\" if normalize_each else \"ADC\")\n",
    "ax.set_title(\"Single-frame test plot\")\n",
    "\n",
    "# Shade predicted regions (full height, pink)\n",
    "inside = False\n",
    "start = None\n",
    "for j, val in enumerate(pred):\n",
    "    if val == 1 and not inside:\n",
    "        inside = True\n",
    "        start = ticks[j]\n",
    "    elif val == 0 and inside:\n",
    "        inside = False\n",
    "        end = ticks[j]\n",
    "        ax.axvspan(start, end, ymin=0, ymax=1,\n",
    "                   color=\"pink\", alpha=0.9, zorder=-1)\n",
    "if inside:\n",
    "    ax.axvspan(start, ticks[-1], ymin=0, ymax=1,\n",
    "               color=\"pink\", alpha=0.9, zorder=-1)\n",
    "\n",
    "# True hit vertical lines\n",
    "h0, h1 = hit_pairs[i]\n",
    "v0 = float(h0) * tick_scale_ns\n",
    "v1 = float(h1) * tick_scale_ns\n",
    "ax.axvline(v0, color=\"r\", linestyle=\"--\", linewidth=1.5)\n",
    "ax.axvline(v1, color=\"r\", linestyle=\"--\", linewidth=1.5)\n",
    "\n",
    "# add text\n",
    "ax.text(0.02, 0.95, f\"sep = {separations[i]} ticks\",\n",
    "        transform=ax.transAxes, va=\"top\")\n",
    "\n",
    "plt.show()"
   ]
  },
  {
   "cell_type": "markdown",
   "id": "5fdf8a3b-62c4-472f-b0b0-490b7271efdc",
   "metadata": {},
   "source": [
    "### Saving the Animation as a GIF"
   ]
  },
  {
   "cell_type": "code",
   "execution_count": null,
   "id": "e4c0c3d9-7982-4eaf-a240-d0909fa81b33",
   "metadata": {},
   "outputs": [],
   "source": [
    "# ---------- Precompute cropped region ----------\n",
    "\n",
    "crop_start, crop_end = 2500, 5500\n",
    "ticks = np.arange(crop_start, crop_end) * tick_scale_ns\n",
    "\n",
    "waveforms_crop = [wf[crop_start:crop_end] for wf in waveforms_plot]\n",
    "pred_masks_crop = [mask[0, crop_start:crop_end] for mask in pred_masks]\n",
    "\n",
    "# ---------- Animation ----------\n",
    "fig, ax = plt.subplots(1, 1, figsize=figsize)\n",
    "line, = ax.plot([], [], lw=1)\n",
    "text_sep = ax.text(0.02, 0.95, '', transform=ax.transAxes, va='top')\n",
    "\n",
    "ax.set_xlim(crop_start * tick_scale_ns, crop_end * tick_scale_ns)\n",
    "ymin = min(np.min(wf) for wf in waveforms_crop)\n",
    "ymax = max(np.max(wf) for wf in waveforms_crop)\n",
    "ax.set_ylim(ymin, ymax)\n",
    "ax.set_xlabel('Time (ns)')\n",
    "ax.set_ylabel('Normalized ADC' if normalize_each else 'ADC')\n",
    "ax.set_title('Waveforms: one example per separation (descending)')\n",
    "\n",
    "# vertical lines for true hits\n",
    "vline1 = ax.axvline(0, color='r', linestyle='--', linewidth=1.5)\n",
    "vline2 = ax.axvline(0, color='r', linestyle='--', linewidth=1.5)\n",
    "\n",
    "# storage for shaded spans so we can remove them each frame\n",
    "shaded_regions = []\n",
    "\n",
    "def init():\n",
    "    line.set_data([], [])\n",
    "    vline1.set_xdata([0])\n",
    "    vline2.set_xdata([0])\n",
    "    text_sep.set_text('')\n",
    "    return (line, vline1, vline2, text_sep)\n",
    "\n",
    "def animate(i):\n",
    "    global shaded_regions\n",
    "    # clear old shaded regions\n",
    "    for patch in shaded_regions:\n",
    "        patch.remove()\n",
    "    shaded_regions = []\n",
    "\n",
    "    wf = waveforms_crop[i]\n",
    "    pred = pred_masks_crop[i]\n",
    "    line.set_data(ticks, wf)\n",
    "\n",
    "    inside = False\n",
    "    start = None\n",
    "    for j, val in enumerate(pred):\n",
    "        if val == 1 and not inside:\n",
    "            inside = True\n",
    "            start = ticks[j]\n",
    "        elif val == 0 and inside:\n",
    "            inside = False\n",
    "            end = ticks[j]\n",
    "            shaded_regions.append(\n",
    "                ax.axvspan(start, end, ymin=0, ymax=1,\n",
    "                           color='pink', alpha=0.9, zorder=-1)\n",
    "            )\n",
    "    if inside:  # close final region\n",
    "        shaded_regions.append(\n",
    "            ax.axvspan(start, ticks[-1], ymin=0, ymax=1,\n",
    "                       color='pink', alpha=0.9, zorder=-1)\n",
    "        )\n",
    "\n",
    "    # True hit vertical lines\n",
    "    h0, h1 = hit_pairs[i]\n",
    "    v0 = float(h0) * tick_scale_ns\n",
    "    v1 = float(h1) * tick_scale_ns\n",
    "    vline1.set_xdata([v0])\n",
    "    vline2.set_xdata([v1])\n",
    "\n",
    "    text_sep.set_text(f'sep = {separations[i]} ticks')\n",
    "    return (line, vline1, vline2, text_sep, *shaded_regions)\n",
    "\n",
    "nframes = 900\n",
    "anim = animation.FuncAnimation(fig, animate, init_func=init,\n",
    "                               frames=nframes, interval=1000/fps, blit=True)\n",
    "\n",
    "plt.close(fig)\n",
    "\n",
    "# ---------- Display in Jupyter ----------\n",
    "HTML(anim.to_jshtml())\n",
    "\n",
    "# ---------- Save ----------\n",
    "if save_mp4:\n",
    "    mp4_path = os.path.join(out_dir, out_name + '.mp4')\n",
    "    print(\"Saving mp4 to:\", mp4_path)\n",
    "    anim.save(mp4_path, writer='ffmpeg', fps=fps)\n",
    "\n",
    "if save_gif:\n",
    "    gif_path = os.path.join(out_dir, out_name + '.gif')\n",
    "    print(\"Saving gif to:\", gif_path)\n",
    "    anim.save(gif_path, writer='pillow', fps=fps)"
   ]
  },
  {
   "cell_type": "code",
   "execution_count": null,
   "id": "3dfea4cc-3d1d-4754-a635-7f02ee854602",
   "metadata": {},
   "outputs": [],
   "source": []
  }
 ],
 "metadata": {
  "kernelspec": {
   "display_name": "Python 3",
   "language": "python",
   "name": "python3"
  },
  "language_info": {
   "codemirror_mode": {
    "name": "ipython",
    "version": 3
   },
   "file_extension": ".py",
   "mimetype": "text/x-python",
   "name": "python",
   "nbconvert_exporter": "python",
   "pygments_lexer": "ipython3",
   "version": "3.10.12"
  }
 },
 "nbformat": 4,
 "nbformat_minor": 5
}
